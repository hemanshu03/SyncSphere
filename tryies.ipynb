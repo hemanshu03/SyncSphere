{
 "cells": [
  {
   "cell_type": "code",
   "execution_count": 34,
   "metadata": {},
   "outputs": [
    {
     "name": "stdout",
     "output_type": "stream",
     "text": [
      "*****\n",
      "****\n",
      "***\n",
      "*\n",
      "***\n",
      "****\n",
      "*****\n"
     ]
    }
   ],
   "source": [
    "n = int(input(\"Enter number of stars: \"))\n",
    "for i in range(n, 1, -1):\n",
    "    if i == 2:\n",
    "        continue\n",
    "    print('*' * i)\n",
    "print('*')\n",
    "for i in range(2, n + 1):\n",
    "    if i == 2:\n",
    "        continue\n",
    "    print('*' * i)\n",
    "\n"
   ]
  },
  {
   "cell_type": "code",
   "execution_count": 36,
   "metadata": {},
   "outputs": [
    {
     "name": "stdout",
     "output_type": "stream",
     "text": [
      "Original string: Lmao what is going on there!!?\n",
      "Reversed string: ?!!ereht no gniog si tahw oamL\n"
     ]
    }
   ],
   "source": [
    "def reverse_string(s):\n",
    "    reversed_s = ''\n",
    "    for char in s:\n",
    "        reversed_s = char + reversed_s\n",
    "    return reversed_s\n",
    "\n",
    "original_string = input(\"Enter stuff here: \")\n",
    "reversed_string = reverse_string(original_string)\n",
    "print(\"Original string:\", original_string)\n",
    "print(\"Reversed string:\", reversed_string)\n"
   ]
  }
 ],
 "metadata": {
  "language_info": {
   "name": "python"
  }
 },
 "nbformat": 4,
 "nbformat_minor": 2
}
