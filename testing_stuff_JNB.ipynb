{
 "cells": [
  {
   "cell_type": "code",
   "execution_count": 3,
   "metadata": {},
   "outputs": [],
   "source": [
    "from pymongo import MongoClient\n",
    "import json\n",
    "import os\n",
    "from bson import ObjectId\n",
    "\n",
    "# Connect to MongoDB\n",
    "client = MongoClient('mongodb://localhost:27017/')  # Replace 'localhost' with your MongoDB host if needed\n",
    "db = client['SyncSphere']  # Replace 'your_database' with your database name\n",
    "\n",
    "# Create a directory to store JSON files if it doesn't exist\n",
    "output_directory = 'collection_exports'\n",
    "os.makedirs(output_directory, exist_ok=True)\n",
    "\n",
    "# Get list of all collections in the database\n",
    "collections = db.list_collection_names()\n",
    "\n",
    "# Export each collection to a separate JSON file\n",
    "for collection_name in collections:\n",
    "    collection = db[collection_name]\n",
    "    cursor = collection.find({})\n",
    "    documents = list(cursor)\n",
    "    \n",
    "    # Convert ObjectId to string\n",
    "    for doc in documents:\n",
    "        doc['_id'] = str(doc['_id'])\n",
    "    \n",
    "    # Write documents to JSON file\n",
    "    output_file = os.path.join(output_directory, f'{collection_name}.json')\n",
    "    with open(output_file, 'w') as f:\n",
    "        json.dump(documents, f, indent=4, default=str)\n",
    "\n",
    "# Close MongoDB connection\n",
    "client.close()\n"
   ]
  },
  {
   "cell_type": "code",
   "execution_count": 4,
   "metadata": {},
   "outputs": [
    {
     "name": "stdout",
     "output_type": "stream",
     "text": [
      "Data imported successfully.\n"
     ]
    }
   ],
   "source": [
    "from pymongo import MongoClient\n",
    "import json\n",
    "import os\n",
    "\n",
    "# Connect to MongoDB\n",
    "client = MongoClient('mongodb://localhost:27017/')  # Replace 'localhost' with your MongoDB host if needed\n",
    "db = client['SyncSphere2']  # Replace 'your_database' with your database name\n",
    "\n",
    "# Directory containing JSON files to import\n",
    "input_directory = 'collection_exports' \n",
    "\n",
    "# Get list of JSON files in the input directory\n",
    "json_files = [f for f in os.listdir(input_directory) if f.endswith('.json')]\n",
    "\n",
    "# Import each JSON file into the corresponding collection\n",
    "for json_file in json_files:\n",
    "    collection_name = os.path.splitext(json_file)[0]  # Extract collection name from file name\n",
    "    collection = db[collection_name]\n",
    "\n",
    "    # Read data from JSON file\n",
    "    with open(os.path.join(input_directory, json_file), 'r') as f:\n",
    "        data = json.load(f)\n",
    "\n",
    "    # Insert data into collection\n",
    "    collection.insert_many(data)\n",
    "\n",
    "print(\"Data imported successfully.\")\n",
    "\n",
    "# Close MongoDB connection\n",
    "client.close()\n"
   ]
  }
 ],
 "metadata": {
  "kernelspec": {
   "display_name": "base",
   "language": "python",
   "name": "python3"
  },
  "language_info": {
   "codemirror_mode": {
    "name": "ipython",
    "version": 3
   },
   "file_extension": ".py",
   "mimetype": "text/x-python",
   "name": "python",
   "nbconvert_exporter": "python",
   "pygments_lexer": "ipython3",
   "version": "3.12.2"
  }
 },
 "nbformat": 4,
 "nbformat_minor": 2
}
